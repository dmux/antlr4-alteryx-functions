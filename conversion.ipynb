{
 "cells": [
  {
   "cell_type": "markdown",
   "id": "1cfcccef-6f1f-414b-a856-bb775eae8857",
   "metadata": {},
   "source": [
    "## AlteryxFunctionsTranspiler"
   ]
  },
  {
   "cell_type": "markdown",
   "id": "8d4ffb56-7679-41d7-be70-e362260eebc6",
   "metadata": {},
   "source": [
    "### Motivação\n",
    "Ao considerar a criação de um transpiler de expressões do Alteryx, minhas motivações estão diretamente relacionadas à necessidade de adaptar ou reaproveitar essas expressões em outros sistemas ou ferramentas com sintaxes diferentes.\n",
    "\n",
    "Sabemos que o Alteryx possui sua própria linguagem de expressões, amplamente usada em operações de transformação e processamento de dados. A documentação oficial sobre funções e expressões do Alteryx <https://help.alteryx.com/20232/en/designer/functions.html> ajuda a entender a lógica por trás dessas funções.\n",
    "\n",
    "Converter expressões do Alteryx para Python, especialmente quando o objetivo é vincular essas expressões a funções UDF (User Defined Functions) em PySpark, apresenta uma série de desafios técnicos e conceituais. Vou listar os principais desafios que surgem nesse processo:\n",
    "\n",
    "#### 1. Diferenças de Sintaxe e Semântica\n",
    "\n",
    "As expressões do Alteryx têm uma sintaxe e comportamento próprios, o que pode gerar dificuldades na conversão direta para Python ou PySpark. Muitas das funções e operadores do Alteryx possuem um comportamento que pode ser diferente das bibliotecas padrão de Python ou PySpark. Exemplos incluem:\n",
    "\n",
    "- Funções matemáticas e de manipulação de texto: O Alteryx possui funções nativas específicas (como Trim(), Length(), DateTimeDiff(), etc.) que precisam ser mapeadas para funções equivalentes no Python ou PySpark.\n",
    "\n",
    "- Funções de agregação: Algumas funções no Alteryx (ex. Sum(), Average(), Min(), etc.) podem precisar de um tratamento especial ao serem convertidas para o contexto distribuído do PySpark.\n",
    "A conversão semântica não se limita à simples substituição de funções, mas também à adaptação do comportamento de execução, como otimização de cálculos e o manuseio de tipos de dados.\n",
    "\n",
    "\n",
    "#### 2. Diferente Modelagem de Dados\n",
    "- Alteryx trabalha com um modelo de dados mais centrado em tabelas e campos, enquanto o PySpark lida com RDDs ou DataFrames distribuídos. Isso implica que a maneira como dados são manipulados e processados em Alteryx pode ser diferente da abordagem no PySpark.\n",
    "\n",
    "- UDFs no PySpark são funções definidas pelo usuário que podem ser aplicadas a cada linha de um DataFrame, e sua implementação precisa ser eficiente em termos de paralelismo. Converter expressões do Alteryx para UDFs pode envolver transformações significativas no modelo de dados, que precisam ser ajustadas para funcionar de forma distribuída."
   ]
  },
  {
   "cell_type": "markdown",
   "id": "df3861cb-724f-4963-abe3-4a505b7be61e",
   "metadata": {},
   "source": [
    "### Características das expressões do Alteryx\n",
    "\n",
    "- As expressões no Alteryx são altamente estruturadas e possuem uma gramática relativamente bem definida.\n",
    "- Existe um conjunto limitado de funções, operadores e sintaxe específicas da ferramenta.\n",
    "- A validação das expressões é importante para garantir que o código gerado funcione corretamente no ambiente de destino.\n",
    "\n",
    "#### Dado esse contexto, a abordagem ideal depende de dois fatores principais:\n",
    "\n",
    "- Complexidade e variação nas expressões: As expressões são sempre bem definidas ou possuem variações ambíguas?\n",
    "- Exigência de precisão: Pequenos erros na conversão podem comprometer o resultado final?"
   ]
  },
  {
   "cell_type": "markdown",
   "id": "0b098a33-c07e-49a4-bd67-cda178996777",
   "metadata": {},
   "source": [
    "### Usando ANTLR"
   ]
  },
  {
   "cell_type": "markdown",
   "id": "dbe4db7e-476d-4fe5-ae94-780d2c78e377",
   "metadata": {},
   "source": [
    "#### Por que ANTLR seria ideal?\n",
    "\n",
    "- Gramática bem definida: Se as expressões do Alteryx seguem uma estrutura previsível, ANTLR é perfeito para processar essas expressões com precisão.\n",
    "- Validação rigorosa: ANTLR valida automaticamente contra a gramática, garantindo que expressões malformadas sejam rejeitadas ou corrigidas.\n",
    "- Modularidade: Você pode criar uma gramática para Alteryx e outra para o formato da ferramenta Formula, além de ajustar mapeamentos para conversão.\n",
    "- Performance: Após a implementação, a conversão é rápida e altamente otimizada.\n",
    "\n",
    "#### Desafios:\n",
    "\n",
    "- Necessidade de construir uma gramática para o Alteryx e o formato Formula.\n",
    "- Esforço inicial maior para implementação."
   ]
  },
  {
   "cell_type": "markdown",
   "id": "78b80add-b8fb-4588-99ca-1b5459e9d637",
   "metadata": {},
   "source": [
    "### Usando LLM"
   ]
  },
  {
   "cell_type": "markdown",
   "id": "3c629b8e-7d6d-4fcf-8692-e4787f87b151",
   "metadata": {},
   "source": [
    "#### Por que LLM seria útil?\n",
    "\n",
    "- Flexibilidade: Se as expressões do Alteryx não são perfeitamente padronizadas (por exemplo, combinações complexas ou inputs ambíguos), uma LLM pode interpretar melhor os padrões e realizar a conversão.\n",
    "- Prototipagem rápida: É possível iniciar sem criar uma gramática formal, reduzindo o tempo de desenvolvimento inicial.\n",
    "- Generalização: Além de converter expressões, a LLM pode lidar com comentários, anotações ou outros metadados presentes.\n",
    "\n",
    "#### Desafios:\n",
    "\n",
    "- Imprecisão: As saídas podem ser inconsistentes, especialmente em expressões complexas ou raras.\n",
    "- Falta de controle: Dificuldades em garantir validação formal das expressões geradas.\n",
    "- Dependência de treinamento: Uma LLM pode não ter conhecimento prévio das expressões do Alteryx ou da ferramenta Formula, exigindo ajustes personalizados."
   ]
  },
  {
   "cell_type": "markdown",
   "id": "10c8163f-9049-4e89-84e2-7f6fa3efcdb6",
   "metadata": {},
   "source": [
    "#### Comparação Direta"
   ]
  },
  {
   "cell_type": "markdown",
   "id": "044e436f-686f-4770-af8b-547429964868",
   "metadata": {},
   "source": [
    "| Critério             | ANTLR                                | LLM                                      |\n",
    "|----------------------|--------------------------------------|------------------------------------------|\n",
    "| Precisão             | Alta (dependendo da gramática)       | Média (dependendo do modelo e ajuste)    |\n",
    "| Escalabilidade       | Boa                                   | Limitada por custo computacional         |\n",
    "| Facilidade de uso    | Média (exige aprendizado inicial)    | Alta (sem necessidade de gramática)      |\n",
    "| Velocidade de execução | Alta (após implementação)           | Média (requer inferências)               |\n",
    "| Flexibilidade        | Baixa                                | Alta                                     |"
   ]
  },
  {
   "cell_type": "markdown",
   "id": "2e9b7291-9703-40ae-aade-e867cf8b46d0",
   "metadata": {},
   "source": [
    "### Cenário Escolhido: Híbrido\n",
    "\n",
    "- ANTLR para o core: Processa a maior parte das expressões do Alteryx com uma gramática bem definida.\n",
    "- LLM para refinamento: Aplica heurísticas ou resolve ambiguidades não previstas pela gramática, complementando o processo.\n",
    "\n",
    "Essa abordagem garante precisão e flexibilidade, otimizando esforços de desenvolvimento e minimizando erros."
   ]
  },
  {
   "cell_type": "markdown",
   "id": "67146e28-bdc1-4241-a8ad-e35392097680",
   "metadata": {},
   "source": [
    "### POC"
   ]
  },
  {
   "cell_type": "code",
   "execution_count": 8,
   "id": "b4afaa8e-7ec3-49ed-b331-2fc10b3037d7",
   "metadata": {},
   "outputs": [],
   "source": [
    "from antlr4 import *\n",
    "from AlteryxFunctionsTranspiler.AlteryxFunctionsLexer import AlteryxFunctionsLexer\n",
    "from AlteryxFunctionsTranspiler.AlteryxFunctionsParser import AlteryxFunctionsParser\n",
    "from AlteryxFunctionsTranspiler.AlteryxFunctionsVisitor import AlteryxFunctionsVisitor"
   ]
  },
  {
   "cell_type": "code",
   "execution_count": 9,
   "id": "469871f6-2c16-4c34-aec7-d86d2af01a21",
   "metadata": {},
   "outputs": [],
   "source": [
    "from AlteryxFunctionsTranspiler.AlteryxToPython import AlteryxToPythonVisitor"
   ]
  },
  {
   "cell_type": "code",
   "execution_count": 10,
   "id": "b45dea4a-d130-407e-affd-f0128dc6b7b1",
   "metadata": {},
   "outputs": [],
   "source": [
    "def transpile_alteryx_to_python(alteryx_expression):\n",
    "    input_stream = InputStream(alteryx_expression)\n",
    "    lexer = AlteryxFunctionsLexer(input_stream)\n",
    "    stream = CommonTokenStream(lexer)\n",
    "    parser = AlteryxFunctionsParser(stream)\n",
    "    tree = parser.prog()\n",
    "\n",
    "    visitor = AlteryxToPythonVisitor()\n",
    "    return visitor.visit(tree)"
   ]
  },
  {
   "cell_type": "markdown",
   "id": "9c2f7467-05c5-434f-b1cb-0236d548d73d",
   "metadata": {},
   "source": [
    "### ALTERYX EXPRESSION: TONUMBER"
   ]
  },
  {
   "cell_type": "code",
   "execution_count": 11,
   "id": "168cf99e-c596-4848-800f-0dbc0d4df5c0",
   "metadata": {},
   "outputs": [
    {
     "name": "stdout",
     "output_type": "stream",
     "text": [
      "Python Code: float(\"42\")\n",
      "Execution Result: 42.0\n"
     ]
    }
   ],
   "source": [
    "alteryx_expression = 'ToNumber(\"42\")'\n",
    "python_code = transpile_alteryx_to_python(alteryx_expression)\n",
    "print(\"Python Code:\", python_code)\n",
    "print(\"Execution Result:\", eval(python_code))"
   ]
  },
  {
   "cell_type": "markdown",
   "id": "95626e56-aea0-4fd7-9a5a-a0f5e40d305b",
   "metadata": {},
   "source": [
    "### ALTERYX EXPRESSION: IF TOBOOLEAN(\"1\") THEN TOSTRING(100) ELSE \"False\" ENDIF"
   ]
  },
  {
   "cell_type": "code",
   "execution_count": 12,
   "id": "dde0ca53-8399-4df8-b38c-85abff334434",
   "metadata": {},
   "outputs": [
    {
     "name": "stdout",
     "output_type": "stream",
     "text": [
      "Python Code: (str(100) if None else float(\"200\"))\n",
      "Execution Result: 200.0\n"
     ]
    }
   ],
   "source": [
    "alteryx_expression = 'IF TOBOOLEAN(\"1\") THEN TOSTRING(100) ELSE TONUMBER(\"200\") ENDIF'\n",
    "python_code = transpile_alteryx_to_python(alteryx_expression)\n",
    "print(\"Python Code:\", python_code)\n",
    "print(\"Execution Result:\", eval(python_code))"
   ]
  },
  {
   "cell_type": "markdown",
   "id": "062ea5bd-9368-46d3-bd4a-8ab8002c4f91",
   "metadata": {},
   "source": [
    "### ALTERYX EXPRESSION COMPLEX:"
   ]
  },
  {
   "cell_type": "code",
   "execution_count": 13,
   "id": "d52dddd6-a125-4881-9169-ae7effcde017",
   "metadata": {},
   "outputs": [],
   "source": [
    "alteryx_expression = \"\"\"\n",
    "IF TOBOOLEAN(\"1\")\n",
    "\n",
    "    THEN\n",
    "        TOSTRING(100)\n",
    "\n",
    "    ELSE\n",
    "        IF TOBOOLEAN(\"1\")\n",
    "            THEN ToNumber(\"42\")\n",
    "\n",
    "        ELSE ToNumber(\"49\")\n",
    "\n",
    "    ENDIF\n",
    "\n",
    "ENDIF\n",
    "\n",
    "\"\"\"\n"
   ]
  },
  {
   "cell_type": "code",
   "execution_count": 14,
   "id": "f8e47249-95f0-44da-9638-acc4e3812359",
   "metadata": {},
   "outputs": [
    {
     "name": "stdout",
     "output_type": "stream",
     "text": [
      "Python Code: (str(100) if None else (float(\"42\") if None else float(\"49\")))\n",
      "Execution Result: 49.0\n"
     ]
    }
   ],
   "source": [
    "python_code = transpile_alteryx_to_python(alteryx_expression)\n",
    "print(\"Python Code:\", python_code)\n",
    "print(\"Execution Result:\", eval(python_code))"
   ]
  },
  {
   "cell_type": "code",
   "execution_count": null,
   "id": "2d6d89cc-a317-4f19-8147-515aa4d89dfc",
   "metadata": {},
   "outputs": [],
   "source": []
  },
  {
   "cell_type": "markdown",
   "id": "5929760b-d83b-414a-bfc5-db28ef76045a",
   "metadata": {},
   "source": [
    "#### Gerando o Código Python (UDF) a partir da AST\n",
    "\n",
    "Agora, precisamos percorrer a árvore de sintaxe (AST) gerada pelo ANTLR e gerar o código Python equivalente, que define uma UDF para a expressão em PySpark.\n",
    "\n",
    "#### Exemplo não testado ainda!\n",
    "\n",
    "```python\n",
    "from pyspark.sql.functions import udf\n",
    "from pyspark.sql.types import StringType\n",
    "\n",
    "def generate_udf_code(ast):\n",
    "    condition = ast['condition']\n",
    "    true_value = ast['true_value']\n",
    "    false_value = ast['false_value']\n",
    "    \n",
    "    code = f\"\"\"\n",
    "def udf_function({condition}):\n",
    "    if {condition}:\n",
    "        return {true_value}\n",
    "    else:\n",
    "        return {false_value}\n",
    "    \"\"\"\n",
    "    return code\n",
    "\n",
    "ast = {\n",
    "    'type': 'IF',\n",
    "    'condition': '[Age] > 30',\n",
    "    'true_value': '\"Rafael\"',\n",
    "    'false_value': '\"Jose\"'\n",
    "}\n",
    "\n",
    "udf_code = generate_udf_code(ast)\n",
    "\n",
    "```\n",
    "\n"
   ]
  },
  {
   "cell_type": "code",
   "execution_count": null,
   "id": "73cf870d-9d8a-438f-a1a1-6de058793e15",
   "metadata": {},
   "outputs": [],
   "source": []
  },
  {
   "cell_type": "code",
   "execution_count": null,
   "id": "d8064720-65e5-473f-a51b-9281334921a5",
   "metadata": {},
   "outputs": [],
   "source": []
  },
  {
   "cell_type": "markdown",
   "id": "b0263abd-956e-4d45-afa9-980928ee081a",
   "metadata": {},
   "source": [
    "### Conclusão\n",
    "\n",
    "A conversão de expressões do Alteryx para funções UDF em PySpark é um processo complexo, que envolve a adaptação de sintaxe, tipos de dados, e comportamentos de execução. Embora o Alteryx tenha uma abordagem mais simples e centrada em dados tabulares, o PySpark exige uma adaptação para trabalhar com dados distribuídos, o que pode afetar o desempenho e a precisão das conversões. Uma abordagem cuidadosa de mapeamento de funções, validação e teste é essencial para garantir que a conversão preserve a integridade e a eficiência das expressões originais do Alteryx."
   ]
  },
  {
   "cell_type": "code",
   "execution_count": null,
   "id": "3a738344-5367-4c06-896a-539351b7f731",
   "metadata": {},
   "outputs": [],
   "source": []
  },
  {
   "cell_type": "code",
   "execution_count": null,
   "id": "44daa773-127e-40f8-9b13-d1b104bc6b6d",
   "metadata": {},
   "outputs": [],
   "source": []
  }
 ],
 "metadata": {
  "kernelspec": {
   "display_name": "Python 3 (ipykernel)",
   "language": "python",
   "name": "python3"
  },
  "language_info": {
   "codemirror_mode": {
    "name": "ipython",
    "version": 3
   },
   "file_extension": ".py",
   "mimetype": "text/x-python",
   "name": "python",
   "nbconvert_exporter": "python",
   "pygments_lexer": "ipython3",
   "version": "3.12.7"
  }
 },
 "nbformat": 4,
 "nbformat_minor": 5
}
