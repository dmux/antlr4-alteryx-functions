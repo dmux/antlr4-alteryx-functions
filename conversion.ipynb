{
 "cells": [
  {
   "cell_type": "code",
   "execution_count": 38,
   "id": "d611b865-10e9-4f14-9a7c-bcae01f66e28",
   "metadata": {},
   "outputs": [],
   "source": [
    "from antlr4 import *"
   ]
  },
  {
   "cell_type": "code",
   "execution_count": 39,
   "id": "ac022bdd-9dff-4e0b-99a4-d5f7ac9efd25",
   "metadata": {},
   "outputs": [],
   "source": [
    "from AlteryxFunctionsTranspiler.AlteryxFunctionsLexer import AlteryxFunctionsLexer\n",
    "from AlteryxFunctionsTranspiler.AlteryxFunctionsParser import AlteryxFunctionsParser\n",
    "from AlteryxFunctionsTranspiler.AlteryxFunctionsVisitor import AlteryxFunctionsVisitor"
   ]
  },
  {
   "cell_type": "code",
   "execution_count": 40,
   "id": "4d063ab6-a997-4ef1-8a50-188102d35bb3",
   "metadata": {},
   "outputs": [],
   "source": [
    "from AlteryxFunctionsTranspiler.AlteryxToPython import AlteryxToPythonVisitor"
   ]
  },
  {
   "cell_type": "code",
   "execution_count": 41,
   "id": "fe6b5757-6e6a-44f2-864c-fb9e88fd04f2",
   "metadata": {},
   "outputs": [],
   "source": [
    "def transpile_alteryx_to_python(alteryx_expression):\n",
    "    input_stream = InputStream(alteryx_expression)\n",
    "    lexer = AlteryxFunctionsLexer(input_stream)\n",
    "    stream = CommonTokenStream(lexer)\n",
    "    parser = AlteryxFunctionsParser(stream)\n",
    "    tree = parser.prog()\n",
    "\n",
    "    visitor = AlteryxToPythonVisitor()\n",
    "    return visitor.visit(tree)"
   ]
  },
  {
   "cell_type": "markdown",
   "id": "9c2f7467-05c5-434f-b1cb-0236d548d73d",
   "metadata": {},
   "source": [
    "### ALTERYX EXPRESSION: TONUMBER"
   ]
  },
  {
   "cell_type": "code",
   "execution_count": 42,
   "id": "168cf99e-c596-4848-800f-0dbc0d4df5c0",
   "metadata": {},
   "outputs": [
    {
     "name": "stdout",
     "output_type": "stream",
     "text": [
      "Python Code: float(\"42\")\n",
      "Execution Result: 42.0\n"
     ]
    }
   ],
   "source": [
    "alteryx_expression = 'ToNumber(\"42\")'\n",
    "python_code = transpile_alteryx_to_python(alteryx_expression)\n",
    "print(\"Python Code:\", python_code)\n",
    "print(\"Execution Result:\", eval(python_code))"
   ]
  },
  {
   "cell_type": "markdown",
   "id": "95626e56-aea0-4fd7-9a5a-a0f5e40d305b",
   "metadata": {},
   "source": [
    "### ALTERYX EXPRESSION: IF TOBOOLEAN(\"1\") THEN TOSTRING(100) ELSE \"False\" ENDIF"
   ]
  },
  {
   "cell_type": "code",
   "execution_count": 43,
   "id": "dde0ca53-8399-4df8-b38c-85abff334434",
   "metadata": {},
   "outputs": [
    {
     "name": "stdout",
     "output_type": "stream",
     "text": [
      "Python Code: (str(100) if None else float(\"200\"))\n",
      "Execution Result: 200.0\n"
     ]
    }
   ],
   "source": [
    "alteryx_expression = 'IF TOBOOLEAN(\"1\") THEN TOSTRING(100) ELSE TONUMBER(\"200\") ENDIF'\n",
    "python_code = transpile_alteryx_to_python(alteryx_expression)\n",
    "print(\"Python Code:\", python_code)\n",
    "print(\"Execution Result:\", eval(python_code))"
   ]
  },
  {
   "cell_type": "markdown",
   "id": "062ea5bd-9368-46d3-bd4a-8ab8002c4f91",
   "metadata": {},
   "source": [
    "### ALTERYX EXPRESSION COMPLEX:"
   ]
  },
  {
   "cell_type": "code",
   "execution_count": 44,
   "id": "d52dddd6-a125-4881-9169-ae7effcde017",
   "metadata": {},
   "outputs": [],
   "source": [
    "alteryx_expression = \"\"\"\n",
    "IF TOBOOLEAN(\"1\")\n",
    "\n",
    "    THEN\n",
    "        TOSTRING(100)\n",
    "\n",
    "    ELSE\n",
    "        IF TOBOOLEAN(\"1\")\n",
    "            THEN ToNumber(\"42\")\n",
    "\n",
    "        ELSE ToNumber(\"49\")\n",
    "\n",
    "    ENDIF\n",
    "\n",
    "ENDIF\n",
    "\n",
    "\"\"\"\n"
   ]
  },
  {
   "cell_type": "code",
   "execution_count": 45,
   "id": "f8e47249-95f0-44da-9638-acc4e3812359",
   "metadata": {},
   "outputs": [
    {
     "name": "stdout",
     "output_type": "stream",
     "text": [
      "Python Code: (str(100) if None else (float(\"42\") if None else float(\"49\")))\n",
      "Execution Result: 49.0\n"
     ]
    }
   ],
   "source": [
    "python_code = transpile_alteryx_to_python(alteryx_expression)\n",
    "print(\"Python Code:\", python_code)\n",
    "print(\"Execution Result:\", eval(python_code))"
   ]
  },
  {
   "cell_type": "code",
   "execution_count": null,
   "id": "895086d6-e229-4b62-b13f-a0f6e9b93537",
   "metadata": {},
   "outputs": [],
   "source": []
  }
 ],
 "metadata": {
  "kernelspec": {
   "display_name": "Python 3 (ipykernel)",
   "language": "python",
   "name": "python3"
  },
  "language_info": {
   "codemirror_mode": {
    "name": "ipython",
    "version": 3
   },
   "file_extension": ".py",
   "mimetype": "text/x-python",
   "name": "python",
   "nbconvert_exporter": "python",
   "pygments_lexer": "ipython3",
   "version": "3.12.7"
  }
 },
 "nbformat": 4,
 "nbformat_minor": 5
}
